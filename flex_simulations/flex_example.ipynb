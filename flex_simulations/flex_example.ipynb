{
 "cells": [
  {
   "cell_type": "markdown",
   "metadata": {},
   "source": [
    "So this code aims to demonstrate how I made each type of simulation\n",
    "It does not make the full set of simulations, but gives you an idea for the code that I have run for each\n",
    "The aim with these simulations is to make them incredibly simple to produce to make the project be more obvious about how it impacts real world data\n"
   ]
  },
  {
   "cell_type": "code",
   "execution_count": 1,
   "metadata": {},
   "outputs": [],
   "source": [
    "import numpy as np\n",
    "import pandas as pd\n",
    "\n",
    "from collections import Counter\n",
    "import random\n",
    "import os\n",
    "import subprocess\n",
    "import csv\n",
    "import time\n",
    "\n",
    "from Bio.Seq import Seq\n",
    "from Bio.SeqRecord import SeqRecord\n",
    "from Bio import SeqIO"
   ]
  },
  {
   "cell_type": "code",
   "execution_count": 2,
   "metadata": {},
   "outputs": [],
   "source": [
    "\n",
    "db = SeqIO.parse(\"../db_preparation/resfinder_20191001/db_formatted.fasta\", \"fasta\")\n",
    "db = {k.id:k.seq for k in db}\n",
    "# This DB just contains unique sequences and names have been renamed to make things run easily with all programs\n",
    "\n",
    "linkfile = \"../db_preparation/resfinder_20191001/db_link.csv\"\n",
    "link = pd.read_csv(linkfile, index_col=0, header=None)\n",
    "rlink = pd.read_csv(linkfile, index_col=1, header=None)"
   ]
  },
  {
   "cell_type": "code",
   "execution_count": 3,
   "metadata": {},
   "outputs": [
    {
     "data": {
      "text/plain": [
       "0"
      ]
     },
     "execution_count": 3,
     "metadata": {},
     "output_type": "execute_result"
    }
   ],
   "source": [
    "try:\n",
    "    subprocess.check_call(\"rm -r test_flex\", shell=True)\n",
    "    subprocess.check_call(\"mkdir test_flex\", shell=True)\n",
    "except subprocess.CalledProcessError:\n",
    "    subprocess.check_call(\"mkdir test_flex\", shell=True)\n",
    "\n",
    "x= random.choice(list(db.keys()))\n",
    "\n",
    "# First we build a sequence , this is our original database entry\n",
    "pre = \"\".join(random.choices([\"A\", \"T\", \"C\", \"G\"], k=1000))\n",
    "post = \"\".join(random.choices([\"A\", \"T\", \"C\", \"G\"], k=1000))\n",
    "seq = pre + str(x) + post\n",
    "origname = link.loc[x][1]\n",
    "rec = SeqRecord(id=\"orig_seq\", seq=Seq(seq), description=origname, name=\"\")\n",
    "SeqIO.write([rec],\"test_flex/orig_seq.fa\", \"fasta\")\n",
    "subprocess.check_call(\"art_illumina -ss HS25 -i test_flex/orig_seq.fa  -p -ef -l 150 -f 40 -m 480 -s 150 -o test_flex/sim_reads_ \" , shell=True)\n",
    "\n",
    "\n",
    "\n"
   ]
  },
  {
   "cell_type": "code",
   "execution_count": null,
   "metadata": {},
   "outputs": [],
   "source": [
    "# In addition to the above code I have included all the FASTAs made by this method"
   ]
  }
 ],
 "metadata": {
  "kernelspec": {
   "display_name": "Python 3",
   "language": "python",
   "name": "python3"
  },
  "language_info": {
   "codemirror_mode": {
    "name": "ipython",
    "version": 3
   },
   "file_extension": ".py",
   "mimetype": "text/x-python",
   "name": "python",
   "nbconvert_exporter": "python",
   "pygments_lexer": "ipython3",
   "version": "3.6.5"
  }
 },
 "nbformat": 4,
 "nbformat_minor": 2
}
